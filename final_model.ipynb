{
 "cells": [
  {
   "cell_type": "code",
   "execution_count": 10,
   "metadata": {},
   "outputs": [
    {
     "name": "stdout",
     "output_type": "stream",
     "text": [
      "Please visit this URL to authorize this application: https://accounts.google.com/o/oauth2/auth?response_type=code&client_id=58299999764-ibdcd12hrep5r3t6tukvk390a0tncph1.apps.googleusercontent.com&redirect_uri=http%3A%2F%2Flocalhost%3A50245%2F&scope=https%3A%2F%2Fwww.googleapis.com%2Fauth%2Fgmail.readonly+https%3A%2F%2Fwww.googleapis.com%2Fauth%2Fgmail.labels&state=qNbZ8K7KW0vEnYjXHGlMg7uSv5b6XP&access_type=offline\n",
      "Label created\n"
     ]
    }
   ],
   "source": [
    "# from __future__ import print_function\n",
    "import pickle\n",
    "import email\n",
    "import re\n",
    "import base64\n",
    "import os.path\n",
    "from googleapiclient.discovery import build\n",
    "from google_auth_oauthlib.flow import InstalledAppFlow\n",
    "from google.auth.transport.requests import Request\n",
    "\n",
    "# If modifying these scopes, delete the file token.pickle.\n",
    "SCOPES = ['https://www.googleapis.com/auth/gmail.readonly',\n",
    "          'https://www.googleapis.com/auth/gmail.labels']\n",
    "\n",
    "\n",
    "\n",
    "def main():\n",
    "    \n",
    "    creds = None\n",
    "    if os.path.exists('token.pickle'):\n",
    "        with open('token.pickle', 'rb') as token:\n",
    "            creds = pickle.load(token)\n",
    "    # If there are no (valid) credentials available, let the user log in.\n",
    "    if not creds or not creds.valid:\n",
    "        if creds and creds.expired and creds.refresh_token:\n",
    "            creds.refresh(Request())\n",
    "        else:\n",
    "            flow = InstalledAppFlow.from_client_secrets_file(\n",
    "                'New.json', SCOPES)\n",
    "            creds = flow.run_local_server(port=0)\n",
    "        # Save the credentials for the next run\n",
    "        with open('token.pickle', 'wb') as token:\n",
    "            pickle.dump(creds, token)\n",
    "\n",
    "    # Make the API request\n",
    "    service = build('gmail', 'v1', credentials=creds)\n",
    "    label = make_label(\"My_Spam_Detection\")\n",
    "\n",
    "    try:\n",
    "        created_label = service.users().labels().create(\n",
    "            userId=\"me\", body=label).execute()\n",
    "        print(\"Label created\")\n",
    "\n",
    "    except Exception as e:\n",
    "        print(f\"Error occured: {e}\")\n",
    "\n",
    "\n",
    "def make_label(name, mlv=\"show\", llv=\"labelShow\"):\n",
    "    label = {\n",
    "        \"messageListVisibility\": mlv,\n",
    "        \"labelListVisibility\": llv,\n",
    "        \"name\": name\n",
    "    }\n",
    "    return label\n",
    "\n",
    "\n",
    "if __name__ == '__main__':\n",
    "    main()"
   ]
  }
 ],
 "metadata": {
  "kernelspec": {
   "display_name": "Python 3",
   "language": "python",
   "name": "python3"
  },
  "language_info": {
   "codemirror_mode": {
    "name": "ipython",
    "version": 3
   },
   "file_extension": ".py",
   "mimetype": "text/x-python",
   "name": "python",
   "nbconvert_exporter": "python",
   "pygments_lexer": "ipython3",
   "version": "3.11.0"
  },
  "orig_nbformat": 4
 },
 "nbformat": 4,
 "nbformat_minor": 2
}
